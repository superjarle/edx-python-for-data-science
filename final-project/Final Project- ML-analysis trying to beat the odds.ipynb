{
 "cells": [
  {
   "cell_type": "markdown",
   "id": "c043a0c2",
   "metadata": {},
   "source": [
    "# Final project. Trying to beat the odds"
   ]
  },
  {
   "cell_type": "markdown",
   "id": "f919714d",
   "metadata": {},
   "source": [
    "This project uses the data obtained from the Kaggle website, and the \"Football events\" dataset, which can be found here: https://www.kaggle.com/datasets/secareanualin/football-events </br>\n",
    "\n",
    "### Part 1: Exploring home advantage\n",
    "\n",
    "Here, I will briefly explore the data on something soccer pundits and fans, \"home advantage\". Some of the factors often mentioned by pundits and soccer fans themselves, are the following\n",
    "1. Late goals (from the support of the home crowd) </br>\n",
    "2. Penalties (pressure on the ref from the crowds)</br>\n",
    "3. Home team \"pins\" back the away team. </br>\n",
    "\n",
    "Number 3 is often talked about that away teams have to score on the counter-attack. Does away teams score more on the break? \n",
    "Stay tuned for the data!\n",
    "\n",
    "I know there are other factors here. The home team is accustomed to the ground, the locker rooms, less travel, etc. I am not trying to verify causality here, I am simply exploring something common in the conversation. \n",
    "\n",
    "### Part 2: Trying to beat the odds using machine learning algorythms. \n",
    "\n",
    "There are basically 3 outcomes to a soccer match. \n",
    "1. Home win </br>\n",
    "2. Draw </br>\n",
    "3. Away win </br>\n",
    "\n",
    "As these are 3 different categories, I will explore some of the following machine-learning algorithms.\n",
    "1) Logistic Regression (Lasso) </br>\n",
    "2) Support Vector Machine </br>\n",
    "3) K-Nearest Neighbours </br>\n",
    "4) Decision Tree Classifier </br>\n",
    "5) Random Forest Classifier </br>\n"
   ]
  },
  {
   "cell_type": "markdown",
   "id": "476266cb",
   "metadata": {},
   "source": [
    "**First, importing the libraries and the data needed for the analysis**"
   ]
  },
  {
   "cell_type": "code",
   "execution_count": 1,
   "id": "31e33856",
   "metadata": {},
   "outputs": [],
   "source": [
    "import pandas as pd\n",
    "import numpy as np\n",
    "import matplotlib as mpl\n",
    "import matplotlib.pyplot as plt\n",
    "import seaborn as sns\n",
    "from sklearn import svm\n",
    "from sklearn.preprocessing import StandardScaler\n",
    "from sklearn.model_selection import train_test_split\n",
    "from sklearn.metrics import mean_squared_error\n",
    "from sklearn.ensemble import RandomForestClassifier\n",
    "from sklearn.neighbors import KNeighborsClassifier\n",
    "from sklearn.svm import SVC\n",
    "from sklearn.model_selection import KFold\n",
    "from sklearn.tree import DecisionTreeClassifier\n",
    "from sklearn.naive_bayes import MultinomialNB\n",
    "from sklearn.model_selection import cross_val_score\n",
    "import warnings\n",
    "warnings.filterwarnings('ignore')\n",
    "from sklearn.model_selection import GridSearchCV\n",
    "from sklearn.linear_model import LogisticRegression\n",
    "from sklearn.metrics import average_precision_score\n",
    "from sklearn.metrics import precision_score\n",
    "from sklearn.metrics import f1_score\n",
    "from sklearn import preprocessing\n",
    "from sklearn.metrics import accuracy_score\n",
    "from sklearn.metrics import confusion_matrix"
   ]
  },
  {
   "cell_type": "code",
   "execution_count": 2,
   "id": "cd725a10",
   "metadata": {},
   "outputs": [],
   "source": [
    "## Importing the files.\n",
    "df1 = pd.read_csv('events.csv') \n",
    "df2 = pd.read_csv('ginf.csv')"
   ]
  },
  {
   "cell_type": "code",
   "execution_count": 3,
   "id": "3e0ad575",
   "metadata": {},
   "outputs": [
    {
     "data": {
      "text/html": [
       "<div>\n",
       "<style scoped>\n",
       "    .dataframe tbody tr th:only-of-type {\n",
       "        vertical-align: middle;\n",
       "    }\n",
       "\n",
       "    .dataframe tbody tr th {\n",
       "        vertical-align: top;\n",
       "    }\n",
       "\n",
       "    .dataframe thead th {\n",
       "        text-align: right;\n",
       "    }\n",
       "</style>\n",
       "<table border=\"1\" class=\"dataframe\">\n",
       "  <thead>\n",
       "    <tr style=\"text-align: right;\">\n",
       "      <th></th>\n",
       "      <th>id_odsp</th>\n",
       "      <th>id_event</th>\n",
       "      <th>sort_order</th>\n",
       "      <th>time</th>\n",
       "      <th>text</th>\n",
       "      <th>event_type</th>\n",
       "      <th>event_type2</th>\n",
       "      <th>side</th>\n",
       "      <th>event_team</th>\n",
       "      <th>opponent</th>\n",
       "      <th>...</th>\n",
       "      <th>player_in</th>\n",
       "      <th>player_out</th>\n",
       "      <th>shot_place</th>\n",
       "      <th>shot_outcome</th>\n",
       "      <th>is_goal</th>\n",
       "      <th>location</th>\n",
       "      <th>bodypart</th>\n",
       "      <th>assist_method</th>\n",
       "      <th>situation</th>\n",
       "      <th>fast_break</th>\n",
       "    </tr>\n",
       "  </thead>\n",
       "  <tbody>\n",
       "    <tr>\n",
       "      <th>0</th>\n",
       "      <td>UFot0hit/</td>\n",
       "      <td>UFot0hit1</td>\n",
       "      <td>1</td>\n",
       "      <td>2</td>\n",
       "      <td>Attempt missed. Mladen Petric (Hamburg) left f...</td>\n",
       "      <td>1</td>\n",
       "      <td>12.0</td>\n",
       "      <td>2</td>\n",
       "      <td>Hamburg SV</td>\n",
       "      <td>Borussia Dortmund</td>\n",
       "      <td>...</td>\n",
       "      <td>NaN</td>\n",
       "      <td>NaN</td>\n",
       "      <td>6.0</td>\n",
       "      <td>2.0</td>\n",
       "      <td>0</td>\n",
       "      <td>9.0</td>\n",
       "      <td>2.0</td>\n",
       "      <td>1</td>\n",
       "      <td>1.0</td>\n",
       "      <td>0</td>\n",
       "    </tr>\n",
       "    <tr>\n",
       "      <th>1</th>\n",
       "      <td>UFot0hit/</td>\n",
       "      <td>UFot0hit2</td>\n",
       "      <td>2</td>\n",
       "      <td>4</td>\n",
       "      <td>Corner,  Borussia Dortmund. Conceded by Dennis...</td>\n",
       "      <td>2</td>\n",
       "      <td>NaN</td>\n",
       "      <td>1</td>\n",
       "      <td>Borussia Dortmund</td>\n",
       "      <td>Hamburg SV</td>\n",
       "      <td>...</td>\n",
       "      <td>NaN</td>\n",
       "      <td>NaN</td>\n",
       "      <td>NaN</td>\n",
       "      <td>NaN</td>\n",
       "      <td>0</td>\n",
       "      <td>NaN</td>\n",
       "      <td>NaN</td>\n",
       "      <td>0</td>\n",
       "      <td>NaN</td>\n",
       "      <td>0</td>\n",
       "    </tr>\n",
       "    <tr>\n",
       "      <th>2</th>\n",
       "      <td>UFot0hit/</td>\n",
       "      <td>UFot0hit3</td>\n",
       "      <td>3</td>\n",
       "      <td>4</td>\n",
       "      <td>Corner,  Borussia Dortmund. Conceded by Heiko ...</td>\n",
       "      <td>2</td>\n",
       "      <td>NaN</td>\n",
       "      <td>1</td>\n",
       "      <td>Borussia Dortmund</td>\n",
       "      <td>Hamburg SV</td>\n",
       "      <td>...</td>\n",
       "      <td>NaN</td>\n",
       "      <td>NaN</td>\n",
       "      <td>NaN</td>\n",
       "      <td>NaN</td>\n",
       "      <td>0</td>\n",
       "      <td>NaN</td>\n",
       "      <td>NaN</td>\n",
       "      <td>0</td>\n",
       "      <td>NaN</td>\n",
       "      <td>0</td>\n",
       "    </tr>\n",
       "    <tr>\n",
       "      <th>3</th>\n",
       "      <td>UFot0hit/</td>\n",
       "      <td>UFot0hit4</td>\n",
       "      <td>4</td>\n",
       "      <td>7</td>\n",
       "      <td>Foul by Sven Bender (Borussia Dortmund).</td>\n",
       "      <td>3</td>\n",
       "      <td>NaN</td>\n",
       "      <td>1</td>\n",
       "      <td>Borussia Dortmund</td>\n",
       "      <td>Hamburg SV</td>\n",
       "      <td>...</td>\n",
       "      <td>NaN</td>\n",
       "      <td>NaN</td>\n",
       "      <td>NaN</td>\n",
       "      <td>NaN</td>\n",
       "      <td>0</td>\n",
       "      <td>NaN</td>\n",
       "      <td>NaN</td>\n",
       "      <td>0</td>\n",
       "      <td>NaN</td>\n",
       "      <td>0</td>\n",
       "    </tr>\n",
       "    <tr>\n",
       "      <th>4</th>\n",
       "      <td>UFot0hit/</td>\n",
       "      <td>UFot0hit5</td>\n",
       "      <td>5</td>\n",
       "      <td>7</td>\n",
       "      <td>Gokhan Tore (Hamburg) wins a free kick in the ...</td>\n",
       "      <td>8</td>\n",
       "      <td>NaN</td>\n",
       "      <td>2</td>\n",
       "      <td>Hamburg SV</td>\n",
       "      <td>Borussia Dortmund</td>\n",
       "      <td>...</td>\n",
       "      <td>NaN</td>\n",
       "      <td>NaN</td>\n",
       "      <td>NaN</td>\n",
       "      <td>NaN</td>\n",
       "      <td>0</td>\n",
       "      <td>2.0</td>\n",
       "      <td>NaN</td>\n",
       "      <td>0</td>\n",
       "      <td>NaN</td>\n",
       "      <td>0</td>\n",
       "    </tr>\n",
       "  </tbody>\n",
       "</table>\n",
       "<p>5 rows × 22 columns</p>\n",
       "</div>"
      ],
      "text/plain": [
       "     id_odsp   id_event  sort_order  time  \\\n",
       "0  UFot0hit/  UFot0hit1           1     2   \n",
       "1  UFot0hit/  UFot0hit2           2     4   \n",
       "2  UFot0hit/  UFot0hit3           3     4   \n",
       "3  UFot0hit/  UFot0hit4           4     7   \n",
       "4  UFot0hit/  UFot0hit5           5     7   \n",
       "\n",
       "                                                text  event_type  event_type2  \\\n",
       "0  Attempt missed. Mladen Petric (Hamburg) left f...           1         12.0   \n",
       "1  Corner,  Borussia Dortmund. Conceded by Dennis...           2          NaN   \n",
       "2  Corner,  Borussia Dortmund. Conceded by Heiko ...           2          NaN   \n",
       "3           Foul by Sven Bender (Borussia Dortmund).           3          NaN   \n",
       "4  Gokhan Tore (Hamburg) wins a free kick in the ...           8          NaN   \n",
       "\n",
       "   side         event_team           opponent  ... player_in player_out  \\\n",
       "0     2         Hamburg SV  Borussia Dortmund  ...       NaN        NaN   \n",
       "1     1  Borussia Dortmund         Hamburg SV  ...       NaN        NaN   \n",
       "2     1  Borussia Dortmund         Hamburg SV  ...       NaN        NaN   \n",
       "3     1  Borussia Dortmund         Hamburg SV  ...       NaN        NaN   \n",
       "4     2         Hamburg SV  Borussia Dortmund  ...       NaN        NaN   \n",
       "\n",
       "  shot_place shot_outcome  is_goal  location  bodypart  assist_method  \\\n",
       "0        6.0          2.0        0       9.0       2.0              1   \n",
       "1        NaN          NaN        0       NaN       NaN              0   \n",
       "2        NaN          NaN        0       NaN       NaN              0   \n",
       "3        NaN          NaN        0       NaN       NaN              0   \n",
       "4        NaN          NaN        0       2.0       NaN              0   \n",
       "\n",
       "   situation  fast_break  \n",
       "0        1.0           0  \n",
       "1        NaN           0  \n",
       "2        NaN           0  \n",
       "3        NaN           0  \n",
       "4        NaN           0  \n",
       "\n",
       "[5 rows x 22 columns]"
      ]
     },
     "execution_count": 3,
     "metadata": {},
     "output_type": "execute_result"
    }
   ],
   "source": [
    "df1.head()"
   ]
  },
  {
   "cell_type": "code",
   "execution_count": 4,
   "id": "218bbdf2",
   "metadata": {},
   "outputs": [
    {
     "name": "stdout",
     "output_type": "stream",
     "text": [
      "<class 'pandas.core.frame.DataFrame'>\n",
      "RangeIndex: 941009 entries, 0 to 941008\n",
      "Data columns (total 22 columns):\n",
      " #   Column         Non-Null Count   Dtype  \n",
      "---  ------         --------------   -----  \n",
      " 0   id_odsp        941009 non-null  object \n",
      " 1   id_event       941009 non-null  object \n",
      " 2   sort_order     941009 non-null  int64  \n",
      " 3   time           941009 non-null  int64  \n",
      " 4   text           941009 non-null  object \n",
      " 5   event_type     941009 non-null  int64  \n",
      " 6   event_type2    214293 non-null  float64\n",
      " 7   side           941009 non-null  int64  \n",
      " 8   event_team     941009 non-null  object \n",
      " 9   opponent       941009 non-null  object \n",
      " 10  player         880009 non-null  object \n",
      " 11  player2        291310 non-null  object \n",
      " 12  player_in      51715 non-null   object \n",
      " 13  player_out     51738 non-null   object \n",
      " 14  shot_place     227459 non-null  float64\n",
      " 15  shot_outcome   228498 non-null  float64\n",
      " 16  is_goal        941009 non-null  int64  \n",
      " 17  location       467067 non-null  float64\n",
      " 18  bodypart       229185 non-null  float64\n",
      " 19  assist_method  941009 non-null  int64  \n",
      " 20  situation      229137 non-null  float64\n",
      " 21  fast_break     941009 non-null  int64  \n",
      "dtypes: float64(6), int64(7), object(9)\n",
      "memory usage: 157.9+ MB\n"
     ]
    }
   ],
   "source": [
    "df1.info()"
   ]
  },
  {
   "cell_type": "markdown",
   "id": "bff0b4d0",
   "metadata": {},
   "source": [
    "***The dataset also has a dictionary attached to it***"
   ]
  },
  {
   "cell_type": "code",
   "execution_count": 5,
   "id": "5830fc40",
   "metadata": {},
   "outputs": [],
   "source": [
    "encode = pd.read_table('dictionary.txt', delim_whitespace=False, names=('num','events'))"
   ]
  },
  {
   "cell_type": "code",
   "execution_count": 6,
   "id": "047ffb5a",
   "metadata": {},
   "outputs": [
    {
     "data": {
      "text/html": [
       "<div>\n",
       "<style scoped>\n",
       "    .dataframe tbody tr th:only-of-type {\n",
       "        vertical-align: middle;\n",
       "    }\n",
       "\n",
       "    .dataframe tbody tr th {\n",
       "        vertical-align: top;\n",
       "    }\n",
       "\n",
       "    .dataframe thead th {\n",
       "        text-align: right;\n",
       "    }\n",
       "</style>\n",
       "<table border=\"1\" class=\"dataframe\">\n",
       "  <thead>\n",
       "    <tr style=\"text-align: right;\">\n",
       "      <th></th>\n",
       "      <th>num</th>\n",
       "      <th>events</th>\n",
       "    </tr>\n",
       "  </thead>\n",
       "  <tbody>\n",
       "    <tr>\n",
       "      <th>0</th>\n",
       "      <td>event_type</td>\n",
       "      <td>NaN</td>\n",
       "    </tr>\n",
       "    <tr>\n",
       "      <th>1</th>\n",
       "      <td>0</td>\n",
       "      <td>Announcement</td>\n",
       "    </tr>\n",
       "    <tr>\n",
       "      <th>2</th>\n",
       "      <td>1</td>\n",
       "      <td>Attempt</td>\n",
       "    </tr>\n",
       "    <tr>\n",
       "      <th>3</th>\n",
       "      <td>2</td>\n",
       "      <td>Corner</td>\n",
       "    </tr>\n",
       "    <tr>\n",
       "      <th>4</th>\n",
       "      <td>3</td>\n",
       "      <td>Foul</td>\n",
       "    </tr>\n",
       "    <tr>\n",
       "      <th>...</th>\n",
       "      <td>...</td>\n",
       "      <td>...</td>\n",
       "    </tr>\n",
       "    <tr>\n",
       "      <th>70</th>\n",
       "      <td>situation</td>\n",
       "      <td>NaN</td>\n",
       "    </tr>\n",
       "    <tr>\n",
       "      <th>71</th>\n",
       "      <td>1</td>\n",
       "      <td>Open play</td>\n",
       "    </tr>\n",
       "    <tr>\n",
       "      <th>72</th>\n",
       "      <td>2</td>\n",
       "      <td>Set piece</td>\n",
       "    </tr>\n",
       "    <tr>\n",
       "      <th>73</th>\n",
       "      <td>3</td>\n",
       "      <td>Corner</td>\n",
       "    </tr>\n",
       "    <tr>\n",
       "      <th>74</th>\n",
       "      <td>4</td>\n",
       "      <td>Free kick</td>\n",
       "    </tr>\n",
       "  </tbody>\n",
       "</table>\n",
       "<p>75 rows × 2 columns</p>\n",
       "</div>"
      ],
      "text/plain": [
       "           num        events\n",
       "0   event_type           NaN\n",
       "1            0  Announcement\n",
       "2            1       Attempt\n",
       "3            2        Corner\n",
       "4            3          Foul\n",
       "..         ...           ...\n",
       "70   situation           NaN\n",
       "71           1     Open play\n",
       "72           2     Set piece\n",
       "73           3        Corner\n",
       "74           4     Free kick\n",
       "\n",
       "[75 rows x 2 columns]"
      ]
     },
     "execution_count": 6,
     "metadata": {},
     "output_type": "execute_result"
    }
   ],
   "source": [
    "encode ##checking out the dictionary"
   ]
  },
  {
   "cell_type": "markdown",
   "id": "36b654d1",
   "metadata": {},
   "source": [
    "We observe that there are some descriptions of categories in the dictionary. We therefore need to make those categories. "
   ]
  },
  {
   "cell_type": "code",
   "execution_count": 7,
   "id": "e91886af",
   "metadata": {},
   "outputs": [],
   "source": [
    "event_type=encode[1:13]\n",
    "event_type_2=encode[14:18]\n",
    "side=encode[19:21]\n",
    "shot_place=encode[22:35]\n",
    "shot_outcome=encode[36:40]\n",
    "location=encode[41:60]\n",
    "bodypart=encode[61:64]\n",
    "assist_method=encode[65:70]\n",
    "situition=encode[71:75]"
   ]
  },
  {
   "cell_type": "code",
   "execution_count": 8,
   "id": "ecabdd40",
   "metadata": {},
   "outputs": [
    {
     "data": {
      "text/html": [
       "<div>\n",
       "<style scoped>\n",
       "    .dataframe tbody tr th:only-of-type {\n",
       "        vertical-align: middle;\n",
       "    }\n",
       "\n",
       "    .dataframe tbody tr th {\n",
       "        vertical-align: top;\n",
       "    }\n",
       "\n",
       "    .dataframe thead th {\n",
       "        text-align: right;\n",
       "    }\n",
       "</style>\n",
       "<table border=\"1\" class=\"dataframe\">\n",
       "  <thead>\n",
       "    <tr style=\"text-align: right;\">\n",
       "      <th></th>\n",
       "      <th>num</th>\n",
       "      <th>events</th>\n",
       "    </tr>\n",
       "  </thead>\n",
       "  <tbody>\n",
       "    <tr>\n",
       "      <th>1</th>\n",
       "      <td>0</td>\n",
       "      <td>Announcement</td>\n",
       "    </tr>\n",
       "    <tr>\n",
       "      <th>2</th>\n",
       "      <td>1</td>\n",
       "      <td>Attempt</td>\n",
       "    </tr>\n",
       "    <tr>\n",
       "      <th>3</th>\n",
       "      <td>2</td>\n",
       "      <td>Corner</td>\n",
       "    </tr>\n",
       "    <tr>\n",
       "      <th>4</th>\n",
       "      <td>3</td>\n",
       "      <td>Foul</td>\n",
       "    </tr>\n",
       "    <tr>\n",
       "      <th>5</th>\n",
       "      <td>4</td>\n",
       "      <td>Yellow card</td>\n",
       "    </tr>\n",
       "    <tr>\n",
       "      <th>6</th>\n",
       "      <td>5</td>\n",
       "      <td>Second yellow card</td>\n",
       "    </tr>\n",
       "    <tr>\n",
       "      <th>7</th>\n",
       "      <td>6</td>\n",
       "      <td>Red card</td>\n",
       "    </tr>\n",
       "    <tr>\n",
       "      <th>8</th>\n",
       "      <td>7</td>\n",
       "      <td>Substitution</td>\n",
       "    </tr>\n",
       "    <tr>\n",
       "      <th>9</th>\n",
       "      <td>8</td>\n",
       "      <td>Free kick won</td>\n",
       "    </tr>\n",
       "    <tr>\n",
       "      <th>10</th>\n",
       "      <td>9</td>\n",
       "      <td>Offside</td>\n",
       "    </tr>\n",
       "    <tr>\n",
       "      <th>11</th>\n",
       "      <td>10</td>\n",
       "      <td>Hand ball</td>\n",
       "    </tr>\n",
       "    <tr>\n",
       "      <th>12</th>\n",
       "      <td>11</td>\n",
       "      <td>Penalty conceded</td>\n",
       "    </tr>\n",
       "  </tbody>\n",
       "</table>\n",
       "</div>"
      ],
      "text/plain": [
       "   num              events\n",
       "1    0        Announcement\n",
       "2    1             Attempt\n",
       "3    2              Corner\n",
       "4    3                Foul\n",
       "5    4         Yellow card\n",
       "6    5  Second yellow card\n",
       "7    6            Red card\n",
       "8    7        Substitution\n",
       "9    8       Free kick won\n",
       "10   9             Offside\n",
       "11  10           Hand ball\n",
       "12  11    Penalty conceded"
      ]
     },
     "execution_count": 8,
     "metadata": {},
     "output_type": "execute_result"
    }
   ],
   "source": [
    "event_type ## We will now see that the row 0 is no longer the classifier, but a category of the type. No NaN either."
   ]
  },
  {
   "cell_type": "markdown",
   "id": "afef215d",
   "metadata": {},
   "source": [
    "So we have cleaned the dictionary. I want to look further on beating the odds, so I want to understand a few more categories in the dataset, before I move forward. Lets look at some aspects for \"home advantage\" before we try to predict if we can beat the odds."
   ]
  },
  {
   "cell_type": "markdown",
   "id": "bb26d059",
   "metadata": {},
   "source": [
    "# Part 1. Exploring the home advantage"
   ]
  },
  {
   "cell_type": "markdown",
   "id": "78cf9daf",
   "metadata": {},
   "source": [
    "## Subquestion 1: Does the home side score more late goals ?"
   ]
  },
  {
   "cell_type": "code",
   "execution_count": 9,
   "id": "b727258c",
   "metadata": {},
   "outputs": [],
   "source": [
    "goal=df1[df1[\"is_goal\"]==1]"
   ]
  },
  {
   "cell_type": "code",
   "execution_count": 10,
   "id": "97aebff9",
   "metadata": {},
   "outputs": [
    {
     "data": {
      "text/plain": [
       "Text(0.5, 1.0, 'Number of goals during a match')"
      ]
     },
     "execution_count": 10,
     "metadata": {},
     "output_type": "execute_result"
    },
    {
     "data": {
      "image/png": "[encoded data removed]",
      "text/plain": [
       "<Figure size 720x576 with 1 Axes>"
      ]
     },
     "metadata": {
      "needs_background": "light"
     },
     "output_type": "display_data"
    }
   ],
   "source": [
    "fig=plt.figure(figsize=(10,8))\n",
    "plt.hist(goal.time,width=.5,bins=100,color=\"green\") \n",
    "plt.xlabel(\"Minutes\")\n",
    "plt.ylabel(\"Number of goals\")\n",
    "plt.title(\"Number of goals during a match\")"
   ]
  },
  {
   "cell_type": "markdown",
   "id": "1f7ade67",
   "metadata": {},
   "source": [
    "We see that there are quite a few goals evenly across the game, but a high proportion at the end of both halves. "
   ]
  },
  {
   "cell_type": "code",
   "execution_count": 11,
   "id": "b405e736",
   "metadata": {},
   "outputs": [
    {
     "data": {
      "text/plain": [
       "Text(0.5, 1.0, 'Home and away goals during a match')"
      ]
     },
     "execution_count": 11,
     "metadata": {},
     "output_type": "execute_result"
    },
    {
     "data": {
      "image/png": "[encoded data removed]",
      "text/plain": [
       "<Figure size 720x576 with 1 Axes>"
      ]
     },
     "metadata": {
      "needs_background": "light"
     },
     "output_type": "display_data"
    }
   ],
   "source": [
    "fig=plt.figure(figsize=(10,8))\n",
    "plt.hist(goal[goal[\"side\"]==1][\"time\"],width=0.5,bins=100,color=\"red\",label=\"home goals\")   \n",
    "plt.hist(goal[goal[\"side\"]==2][\"time\"],width=0.5,bins=100,color=\"blue\",label=\"away goals\") \n",
    "plt.xlabel(\"Minutes\")\n",
    "plt.ylabel(\"Number of goals\")\n",
    "plt.legend()\n",
    "plt.title(\"Home and away goals during a match\")"
   ]
  },
  {
   "cell_type": "markdown",
   "id": "b1f55747",
   "metadata": {},
   "source": [
    "The plot above shows:\n",
    "-  For every minute, most of the goals scored are by the **home side** , but the away side also seems to have a peak at the end here\n",
    "\n",
    "This supports the general notion that the home side has a an advantage, but proportionally maybe not as strong in the late minutes of the game as the pundits and fans seems to think. \n",
    "\n",
    "The **risk factor** at the end of the game may be the driving force here, meaning teams sometimes gets more desperate for a result"
   ]
  },
  {
   "cell_type": "markdown",
   "id": "87cae699",
   "metadata": {},
   "source": [
    "## Subquestion 2: Does the home side gets more penalties ?"
   ]
  },
  {
   "cell_type": "code",
   "execution_count": 12,
   "id": "337f1fc5",
   "metadata": {},
   "outputs": [
    {
     "data": {
      "text/plain": [
       "(2706, 22)"
      ]
     },
     "execution_count": 12,
     "metadata": {},
     "output_type": "execute_result"
    }
   ],
   "source": [
    "penalty_won=df1[df1[\"event_type\"]==11] ## Meaning you have won a penalty. (ref: metadata)\n",
    "penalty_won.shape "
   ]
  },
  {
   "cell_type": "code",
   "execution_count": 13,
   "id": "34b85d35",
   "metadata": {},
   "outputs": [
    {
     "data": {
      "text/plain": [
       "Text(0.5, 1.0, 'Penalties during a match')"
      ]
     },
     "execution_count": 13,
     "metadata": {},
     "output_type": "execute_result"
    },
    {
     "data": {
      "image/png": "[encoded data removed]",
      "text/plain": [
       "<Figure size 720x576 with 1 Axes>"
      ]
     },
     "metadata": {
      "needs_background": "light"
     },
     "output_type": "display_data"
    }
   ],
   "source": [
    "## When do they happen? \n",
    "plt.figure(figsize=(10,8))\n",
    "plt.hist(penalty_won.time,width=3,bins=20,color=\"red\")   \n",
    "plt.xlabel(\"Minutes\")\n",
    "plt.ylabel(\"Penalties\")\n",
    "plt.title(\"Penalties during a match\",fontsize=14)\n"
   ]
  },
  {
   "cell_type": "markdown",
   "id": "96e26645",
   "metadata": {},
   "source": [
    "We can observe that there is not a clear pattern here, but there seems to be quite a few penalties in the late minutes of the game"
   ]
  },
  {
   "cell_type": "code",
   "execution_count": 14,
   "id": "454bd8d4",
   "metadata": {},
   "outputs": [
    {
     "data": {
      "text/html": [
       "<div>\n",
       "<style scoped>\n",
       "    .dataframe tbody tr th:only-of-type {\n",
       "        vertical-align: middle;\n",
       "    }\n",
       "\n",
       "    .dataframe tbody tr th {\n",
       "        vertical-align: top;\n",
       "    }\n",
       "\n",
       "    .dataframe thead th {\n",
       "        text-align: right;\n",
       "    }\n",
       "</style>\n",
       "<table border=\"1\" class=\"dataframe\">\n",
       "  <thead>\n",
       "    <tr style=\"text-align: right;\">\n",
       "      <th></th>\n",
       "      <th>home</th>\n",
       "      <th>away</th>\n",
       "    </tr>\n",
       "  </thead>\n",
       "  <tbody>\n",
       "    <tr>\n",
       "      <th>Penalties won</th>\n",
       "      <td>1589</td>\n",
       "      <td>1117</td>\n",
       "    </tr>\n",
       "  </tbody>\n",
       "</table>\n",
       "</div>"
      ],
      "text/plain": [
       "               home  away\n",
       "Penalties won  1589  1117"
      ]
     },
     "execution_count": 14,
     "metadata": {},
     "output_type": "execute_result"
    },
    {
     "data": {
      "image/png": "[encoded data removed]",
      "text/plain": [
       "<Figure size 432x288 with 1 Axes>"
      ]
     },
     "metadata": {
      "needs_background": "light"
     },
     "output_type": "display_data"
    }
   ],
   "source": [
    "## NOTE! There may be some interpreation issues here, but according to the metadata\n",
    "## the \"penalties conceeded\" and \"own goal\" are listed for the team that benefits\n",
    "pen_home=penalty_won[penalty_won[\"side\"]==1].shape[0]\n",
    "pen_away=penalty_won[penalty_won[\"side\"]==2].shape[0]\n",
    "\n",
    "pen_comb=pd.DataFrame({\"home\":pen_home,\"away\":pen_away},index=[\"Penalties won\"])\n",
    "pen_comb.plot(kind=\"bar\")\n",
    "plt.title(\"Penalties won (Home/Away)\",fontsize=14)\n",
    "pen_comb"
   ]
  },
  {
   "cell_type": "markdown",
   "id": "7f128d63",
   "metadata": {},
   "source": [
    "The plot above shows:\n",
    "-  The home side gets the **most penalties** , so this provides me with further motivation to explore when in the game this happends\n"
   ]
  },
  {
   "cell_type": "code",
   "execution_count": 15,
   "id": "9f96c2a0",
   "metadata": {},
   "outputs": [
    {
     "data": {
      "text/plain": [
       "Text(0.5, 1.0, 'Home and away penalties during a match')"
      ]
     },
     "execution_count": 15,
     "metadata": {},
     "output_type": "execute_result"
    },
    {
     "data": {
      "image/png": "[encoded data removed]",
      "text/plain": [
       "<Figure size 720x576 with 1 Axes>"
      ]
     },
     "metadata": {
      "needs_background": "light"
     },
     "output_type": "display_data"
    }
   ],
   "source": [
    "fig=plt.figure(figsize=(10,8))\n",
    "plt.hist(penalty_won[penalty_won[\"side\"]==1][\"time\"],width=0.5,bins=100,color=\"red\",label=\"Home side penalties\")   \n",
    "plt.hist(penalty_won[penalty_won[\"side\"]==2][\"time\"],width=0.5,bins=100,color=\"blue\",label=\"Away side penalties\") \n",
    "plt.xlabel(\"Minutes\")\n",
    "plt.ylabel(\"Number of pens\")\n",
    "plt.legend()\n",
    "plt.title(\"Home and away penalties during a match\")"
   ]
  },
  {
   "cell_type": "markdown",
   "id": "93ffd6a9",
   "metadata": {},
   "source": [
    "The plot above shows:\n",
    "-  The home side gets the **most penalties** , but it is not as a clear advantage at the end of the game as people seem to think\n"
   ]
  },
  {
   "cell_type": "markdown",
   "id": "397f0058",
   "metadata": {},
   "source": [
    "## Subquestion 3: Does the away side score more break away goals ?"
   ]
  },
  {
   "cell_type": "markdown",
   "id": "baa14570",
   "metadata": {},
   "source": [
    "For the final bit of exploration, we are going to look at if away teams score more on the counter attack. \n",
    "Note: The dataset is very huge so there could have been much more here, and many more fun and exciting analysis, but those tasks should be for further research and exploration.\n",
    "\n",
    "First, I would like to see how the goals where assisted, as this could provide some further information for the analysis to come. In order to try and keep the reader engaged troughout the notebook, I will go directly into looking at the differences between the home and the away side."
   ]
  },
  {
   "cell_type": "code",
   "execution_count": 16,
   "id": "87b4e46e",
   "metadata": {},
   "outputs": [],
   "source": [
    "home_assist = goal[goal[\"side\"] == 1]\n",
    "away_assist = goal[goal[\"side\"] == 2]"
   ]
  },
  {
   "cell_type": "code",
   "execution_count": 17,
   "id": "26703372",
   "metadata": {},
   "outputs": [
    {
     "data": {
      "image/png": "[encoded data removed]",
      "text/plain": [
       "<Figure size 576x432 with 1 Axes>"
      ]
     },
     "metadata": {},
     "output_type": "display_data"
    },
    {
     "data": {
      "image/png": "[encoded data removed]",
      "text/plain": [
       "<Figure size 576x432 with 1 Axes>"
      ]
     },
     "metadata": {},
     "output_type": "display_data"
    }
   ],
   "source": [
    "labels=[\"None\",\"Pass\",\"Cross\",\"Headed Pass\",\"Through Ball\"]\n",
    "sizes=[sum(home_assist[\"assist_method\"]==0),sum(home_assist[\"assist_method\"]==1),sum(home_assist[\"assist_method\"]==2),sum(home_assist[\"assist_method\"]==3),sum(home_assist[\"assist_method\"]==4)]\n",
    "colors=[\"palegreen\",\"yellow\",\"aqua\",\"coral\",\"plum\"]\n",
    "plt.pie(sizes,labels=labels,colors=colors,autopct='%1.1f%%',startangle=60)\n",
    "plt.axis('equal')\n",
    "plt.title(\"Percentage of each assist type for home goals\",fontsize=18)\n",
    "fig=plt.gcf() \n",
    "fig.set_size_inches(8,6)\n",
    "plt.show()\n",
    "\n",
    "labels=[\"None\",\"Pass\",\"Cross\",\"Headed Pass\",\"Through Ball\"]\n",
    "sizes=[sum(away_assist[\"assist_method\"]==0),sum(away_assist[\"assist_method\"]==1),sum(away_assist[\"assist_method\"]==2),sum(away_assist[\"assist_method\"]==3),sum(away_assist[\"assist_method\"]==4)]\n",
    "colors=[\"palegreen\",\"yellow\",\"aqua\",\"coral\",\"plum\"]\n",
    "plt.pie(sizes,labels=labels,colors=colors,autopct='%1.1f%%',startangle=60)\n",
    "plt.axis('equal')\n",
    "plt.title(\"Percentage of each assist type for away goals\",fontsize=18)\n",
    "fig=plt.gcf() \n",
    "fig.set_size_inches(8,6)"
   ]
  },
  {
   "cell_type": "markdown",
   "id": "8972f1e9",
   "metadata": {},
   "source": [
    "There doesnt seem to a huge differences from what types of assists there are. We would think that a **through ball** would be indicative of a counter-attack, but as we know, a through ball can be a very short and carefully weighted pass also. \n",
    "\n",
    "The **none** category can be interpreted as direct free kicks, penalties, from oppostition player, etc."
   ]
  },
  {
   "cell_type": "markdown",
   "id": "8c7d5af2",
   "metadata": {},
   "source": [
    "### Using the **fast break** metric"
   ]
  },
  {
   "cell_type": "code",
   "execution_count": 18,
   "id": "cfa9493e",
   "metadata": {},
   "outputs": [
    {
     "data": {
      "image/png": "[encoded data removed]",
      "text/plain": [
       "<Figure size 432x432 with 1 Axes>"
      ]
     },
     "metadata": {},
     "output_type": "display_data"
    }
   ],
   "source": [
    "## First, exploring the away and the home goals\n",
    "labels=[\"Home\",\"Away\"]\n",
    "sizes=[goal[goal[\"side\"]==1].shape[0],goal[goal[\"side\"]==2].shape[0]]\n",
    "colors=[\"green\",\"aqua\"]\n",
    "plt.pie(sizes,labels=labels,colors=colors,autopct='%1.1f%%',startangle=90)\n",
    "plt.axis('equal')\n",
    "plt.title(\"Percentage of goals by Home/Away\", fontsize=14)\n",
    "fig=plt.gcf() \n",
    "fig.set_size_inches(6,6)"
   ]
  },
  {
   "cell_type": "code",
   "execution_count": 19,
   "id": "2dbc5268",
   "metadata": {},
   "outputs": [],
   "source": [
    "counter = goal[goal[\"fast_break\"] == 1]"
   ]
  },
  {
   "cell_type": "code",
   "execution_count": 20,
   "id": "80e829c7",
   "metadata": {},
   "outputs": [
    {
     "data": {
      "image/png": "[encoded data removed]",
      "text/plain": [
       "<Figure size 432x432 with 1 Axes>"
      ]
     },
     "metadata": {},
     "output_type": "display_data"
    }
   ],
   "source": [
    "labels=[\"Home\",\"Away\"]\n",
    "sizes=[counter[counter[\"side\"]==1].shape[0],counter[counter[\"side\"]==2].shape[0]]\n",
    "colors=[\"green\",\"aqua\"]\n",
    "plt.pie(sizes,labels=labels,colors=colors,autopct='%1.1f%%',startangle=90)\n",
    "plt.axis('equal')\n",
    "plt.title(\"Percentage of fast break goals by Home/Away\", fontsize=14)\n",
    "fig=plt.gcf() \n",
    "fig.set_size_inches(6,6)"
   ]
  },
  {
   "cell_type": "markdown",
   "id": "7d6c804e",
   "metadata": {},
   "source": [
    "The idea that away sides score more goals on the counter than home sides is not true.\n",
    "\n",
    "However, we do see that away sides score **47.1 per cent of all fast-break goals**, and only *42.6 per cent of all goals scored*. "
   ]
  },
  {
   "cell_type": "markdown",
   "id": "e07ef330",
   "metadata": {},
   "source": [
    "## Analysing the Game information \n"
   ]
  },
  {
   "cell_type": "markdown",
   "id": "60f8bdc7",
   "metadata": {},
   "source": [
    "Getting to know the dataset containing the odds, imported at the start"
   ]
  },
  {
   "cell_type": "code",
   "execution_count": 21,
   "id": "45a20757",
   "metadata": {},
   "outputs": [
    {
     "data": {
      "text/html": [
       "<div>\n",
       "<style scoped>\n",
       "    .dataframe tbody tr th:only-of-type {\n",
       "        vertical-align: middle;\n",
       "    }\n",
       "\n",
       "    .dataframe tbody tr th {\n",
       "        vertical-align: top;\n",
       "    }\n",
       "\n",
       "    .dataframe thead th {\n",
       "        text-align: right;\n",
       "    }\n",
       "</style>\n",
       "<table border=\"1\" class=\"dataframe\">\n",
       "  <thead>\n",
       "    <tr style=\"text-align: right;\">\n",
       "      <th></th>\n",
       "      <th>id_odsp</th>\n",
       "      <th>link_odsp</th>\n",
       "      <th>adv_stats</th>\n",
       "      <th>date</th>\n",
       "      <th>league</th>\n",
       "      <th>season</th>\n",
       "      <th>country</th>\n",
       "      <th>ht</th>\n",
       "      <th>at</th>\n",
       "      <th>fthg</th>\n",
       "      <th>ftag</th>\n",
       "      <th>odd_h</th>\n",
       "      <th>odd_d</th>\n",
       "      <th>odd_a</th>\n",
       "      <th>odd_over</th>\n",
       "      <th>odd_under</th>\n",
       "      <th>odd_bts</th>\n",
       "      <th>odd_bts_n</th>\n",
       "    </tr>\n",
       "  </thead>\n",
       "  <tbody>\n",
       "    <tr>\n",
       "      <th>0</th>\n",
       "      <td>UFot0hit/</td>\n",
       "      <td>/soccer/germany/bundesliga-2011-2012/dortmund-...</td>\n",
       "      <td>True</td>\n",
       "      <td>2011-08-05</td>\n",
       "      <td>D1</td>\n",
       "      <td>2012</td>\n",
       "      <td>germany</td>\n",
       "      <td>Borussia Dortmund</td>\n",
       "      <td>Hamburg SV</td>\n",
       "      <td>3</td>\n",
       "      <td>1</td>\n",
       "      <td>1.56</td>\n",
       "      <td>4.41</td>\n",
       "      <td>7.42</td>\n",
       "      <td>NaN</td>\n",
       "      <td>NaN</td>\n",
       "      <td>NaN</td>\n",
       "      <td>NaN</td>\n",
       "    </tr>\n",
       "    <tr>\n",
       "      <th>1</th>\n",
       "      <td>Aw5DflLH/</td>\n",
       "      <td>/soccer/germany/bundesliga-2011-2012/augsburg-...</td>\n",
       "      <td>True</td>\n",
       "      <td>2011-08-06</td>\n",
       "      <td>D1</td>\n",
       "      <td>2012</td>\n",
       "      <td>germany</td>\n",
       "      <td>FC Augsburg</td>\n",
       "      <td>SC Freiburg</td>\n",
       "      <td>2</td>\n",
       "      <td>2</td>\n",
       "      <td>2.36</td>\n",
       "      <td>3.60</td>\n",
       "      <td>3.40</td>\n",
       "      <td>NaN</td>\n",
       "      <td>NaN</td>\n",
       "      <td>NaN</td>\n",
       "      <td>NaN</td>\n",
       "    </tr>\n",
       "    <tr>\n",
       "      <th>2</th>\n",
       "      <td>bkjpaC6n/</td>\n",
       "      <td>/soccer/germany/bundesliga-2011-2012/werder-br...</td>\n",
       "      <td>True</td>\n",
       "      <td>2011-08-06</td>\n",
       "      <td>D1</td>\n",
       "      <td>2012</td>\n",
       "      <td>germany</td>\n",
       "      <td>Werder Bremen</td>\n",
       "      <td>Kaiserslautern</td>\n",
       "      <td>2</td>\n",
       "      <td>0</td>\n",
       "      <td>1.83</td>\n",
       "      <td>4.20</td>\n",
       "      <td>4.80</td>\n",
       "      <td>NaN</td>\n",
       "      <td>NaN</td>\n",
       "      <td>NaN</td>\n",
       "      <td>NaN</td>\n",
       "    </tr>\n",
       "    <tr>\n",
       "      <th>3</th>\n",
       "      <td>CzPV312a/</td>\n",
       "      <td>/soccer/france/ligue-1-2011-2012/paris-sg-lori...</td>\n",
       "      <td>True</td>\n",
       "      <td>2011-08-06</td>\n",
       "      <td>F1</td>\n",
       "      <td>2012</td>\n",
       "      <td>france</td>\n",
       "      <td>Paris Saint-Germain</td>\n",
       "      <td>Lorient</td>\n",
       "      <td>0</td>\n",
       "      <td>1</td>\n",
       "      <td>1.55</td>\n",
       "      <td>4.50</td>\n",
       "      <td>9.40</td>\n",
       "      <td>NaN</td>\n",
       "      <td>NaN</td>\n",
       "      <td>NaN</td>\n",
       "      <td>NaN</td>\n",
       "    </tr>\n",
       "    <tr>\n",
       "      <th>4</th>\n",
       "      <td>GUOdmtII/</td>\n",
       "      <td>/soccer/france/ligue-1-2011-2012/caen-valencie...</td>\n",
       "      <td>True</td>\n",
       "      <td>2011-08-06</td>\n",
       "      <td>F1</td>\n",
       "      <td>2012</td>\n",
       "      <td>france</td>\n",
       "      <td>Caen</td>\n",
       "      <td>Valenciennes</td>\n",
       "      <td>1</td>\n",
       "      <td>0</td>\n",
       "      <td>2.50</td>\n",
       "      <td>3.40</td>\n",
       "      <td>3.45</td>\n",
       "      <td>NaN</td>\n",
       "      <td>NaN</td>\n",
       "      <td>NaN</td>\n",
       "      <td>NaN</td>\n",
       "    </tr>\n",
       "  </tbody>\n",
       "</table>\n",
       "</div>"
      ],
      "text/plain": [
       "     id_odsp                                          link_odsp  adv_stats  \\\n",
       "0  UFot0hit/  /soccer/germany/bundesliga-2011-2012/dortmund-...       True   \n",
       "1  Aw5DflLH/  /soccer/germany/bundesliga-2011-2012/augsburg-...       True   \n",
       "2  bkjpaC6n/  /soccer/germany/bundesliga-2011-2012/werder-br...       True   \n",
       "3  CzPV312a/  /soccer/france/ligue-1-2011-2012/paris-sg-lori...       True   \n",
       "4  GUOdmtII/  /soccer/france/ligue-1-2011-2012/caen-valencie...       True   \n",
       "\n",
       "         date league  season  country                   ht              at  \\\n",
       "0  2011-08-05     D1    2012  germany    Borussia Dortmund      Hamburg SV   \n",
       "1  2011-08-06     D1    2012  germany          FC Augsburg     SC Freiburg   \n",
       "2  2011-08-06     D1    2012  germany        Werder Bremen  Kaiserslautern   \n",
       "3  2011-08-06     F1    2012   france  Paris Saint-Germain         Lorient   \n",
       "4  2011-08-06     F1    2012   france                 Caen    Valenciennes   \n",
       "\n",
       "   fthg  ftag  odd_h  odd_d  odd_a  odd_over  odd_under  odd_bts  odd_bts_n  \n",
       "0     3     1   1.56   4.41   7.42       NaN        NaN      NaN        NaN  \n",
       "1     2     2   2.36   3.60   3.40       NaN        NaN      NaN        NaN  \n",
       "2     2     0   1.83   4.20   4.80       NaN        NaN      NaN        NaN  \n",
       "3     0     1   1.55   4.50   9.40       NaN        NaN      NaN        NaN  \n",
       "4     1     0   2.50   3.40   3.45       NaN        NaN      NaN        NaN  "
      ]
     },
     "execution_count": 21,
     "metadata": {},
     "output_type": "execute_result"
    }
   ],
   "source": [
    "df2.head()"
   ]
  },
  {
   "cell_type": "code",
   "execution_count": 22,
   "id": "1cf94a5a",
   "metadata": {},
   "outputs": [
    {
     "name": "stdout",
     "output_type": "stream",
     "text": [
      "<class 'pandas.core.frame.DataFrame'>\n",
      "RangeIndex: 10112 entries, 0 to 10111\n",
      "Data columns (total 18 columns):\n",
      " #   Column     Non-Null Count  Dtype  \n",
      "---  ------     --------------  -----  \n",
      " 0   id_odsp    10112 non-null  object \n",
      " 1   link_odsp  10112 non-null  object \n",
      " 2   adv_stats  10112 non-null  bool   \n",
      " 3   date       10112 non-null  object \n",
      " 4   league     10112 non-null  object \n",
      " 5   season     10112 non-null  int64  \n",
      " 6   country    10112 non-null  object \n",
      " 7   ht         10112 non-null  object \n",
      " 8   at         10112 non-null  object \n",
      " 9   fthg       10112 non-null  int64  \n",
      " 10  ftag       10112 non-null  int64  \n",
      " 11  odd_h      10112 non-null  float64\n",
      " 12  odd_d      10112 non-null  float64\n",
      " 13  odd_a      10112 non-null  float64\n",
      " 14  odd_over   977 non-null    float64\n",
      " 15  odd_under  977 non-null    float64\n",
      " 16  odd_bts    977 non-null    float64\n",
      " 17  odd_bts_n  977 non-null    float64\n",
      "dtypes: bool(1), float64(7), int64(3), object(7)\n",
      "memory usage: 1.3+ MB\n"
     ]
    }
   ],
   "source": [
    "df2.info()"
   ]
  },
  {
   "cell_type": "markdown",
   "id": "231dca74",
   "metadata": {},
   "source": [
    "# Part 2: Trying to beat the odds"
   ]
  },
  {
   "cell_type": "markdown",
   "id": "6a564f4b",
   "metadata": {},
   "source": [
    "Odds are the probability of what may occur as determined by the bookmaker or bookie. Let's say the odds for the home side to beat the away side are 2/1. </br>\n",
    "\n",
    "If you place a match winner bet on the home side, you will win your original stake back plus an additional 2 dollars if you staked 1 dollar."
   ]
  },
  {
   "cell_type": "markdown",
   "id": "d3048457",
   "metadata": {},
   "source": [
    "The following function would return the bookmakers' predicted result of a match based on the highest odds for each result for a particular match."
   ]
  },
  {
   "cell_type": "code",
   "execution_count": 23,
   "id": "dd2018a6",
   "metadata": {},
   "outputs": [],
   "source": [
    "## Defining what types of outcomes the odds finds most likely. \n",
    "def odds_predictor(odd_h,odd_d,odd_a):\n",
    "    if odd_h<odd_d and odd_h<odd_a:\n",
    "        return(\"Home Win\")\n",
    "    elif odd_d<odd_h and odd_d<odd_a:\n",
    "        return(\"Draw\")\n",
    "    elif odd_a<odd_d and odd_a<odd_h:\n",
    "        return(\"Away Win\")"
   ]
  },
  {
   "cell_type": "markdown",
   "id": "e3c375ff",
   "metadata": {},
   "source": [
    "The next function would return the actual result of at the end of the match."
   ]
  },
  {
   "cell_type": "code",
   "execution_count": 24,
   "id": "e49c446b",
   "metadata": {},
   "outputs": [],
   "source": [
    "def end_result(fthg,ftag):\n",
    "    if fthg>ftag:\n",
    "        return(\"Home Win\")\n",
    "    elif fthg==ftag:\n",
    "        return(\"Draw\")\n",
    "    elif fthg<ftag:\n",
    "        return(\"Away Win\")\n",
    "    \n",
    "def end_result_encode(fthg,ftag):\n",
    "    if fthg>ftag:\n",
    "        return (1)\n",
    "    elif fthg==ftag:\n",
    "        return (2)\n",
    "    elif fthg<ftag:\n",
    "        return (3)"
   ]
  },
  {
   "cell_type": "markdown",
   "id": "c5ec3a0e",
   "metadata": {},
   "source": [
    "We now compare the chances of us predicting the result of the game correctly just by looking at the odds."
   ]
  },
  {
   "cell_type": "code",
   "execution_count": 25,
   "id": "4c194d4c",
   "metadata": {},
   "outputs": [],
   "source": [
    "def check_odds_predictor(data):\n",
    "    hit=0\n",
    "    miss=0\n",
    "    for i in range(1,data.shape[0]+1):\n",
    "        odd_h=data[i-1:i][\"odd_h\"].item()\n",
    "        odd_d=data[i-1:i][\"odd_d\"].item()\n",
    "        odd_a=data[i-1:i][\"odd_a\"].item()\n",
    "        fthg=data[i-1:i][\"fthg\"].item()\n",
    "        ftag=data[i-1:i][\"ftag\"].item()\n",
    "        odds=odds_predictor(odd_h,odd_d,odd_a)\n",
    "        actual=end_result(fthg,ftag)\n",
    "        if odds==actual:\n",
    "            hit+=1\n",
    "        else:\n",
    "            miss+=1\n",
    "    return(str(\"%.2f\"%(hit/(hit+miss)))+str(\"% hit\"))"
   ]
  },
  {
   "cell_type": "code",
   "execution_count": 26,
   "id": "017294b8",
   "metadata": {},
   "outputs": [
    {
     "data": {
      "text/plain": [
       "'0.53% hit'"
      ]
     },
     "execution_count": 26,
     "metadata": {},
     "output_type": "execute_result"
    }
   ],
   "source": [
    "check_odds_predictor(df2)"
   ]
  },
  {
   "cell_type": "markdown",
   "id": "1dd28492",
   "metadata": {},
   "source": [
    "This shows that if we just guess the result based on looking at the odds, we would be right **53 per cent** of the time. \n",
    "\n",
    "Clearly, we want to have a better indicator that would give us a better chance than this if we want to bet on the match."
   ]
  },
  {
   "cell_type": "markdown",
   "id": "47fa823e",
   "metadata": {},
   "source": [
    "## Predicting results\n",
    "We will try to use the odds and the difference among the odds to predict the result of a match."
   ]
  },
  {
   "cell_type": "code",
   "execution_count": 27,
   "id": "fef80215",
   "metadata": {},
   "outputs": [
    {
     "data": {
      "text/html": [
       "<div>\n",
       "<style scoped>\n",
       "    .dataframe tbody tr th:only-of-type {\n",
       "        vertical-align: middle;\n",
       "    }\n",
       "\n",
       "    .dataframe tbody tr th {\n",
       "        vertical-align: top;\n",
       "    }\n",
       "\n",
       "    .dataframe thead th {\n",
       "        text-align: right;\n",
       "    }\n",
       "</style>\n",
       "<table border=\"1\" class=\"dataframe\">\n",
       "  <thead>\n",
       "    <tr style=\"text-align: right;\">\n",
       "      <th></th>\n",
       "      <th>fthg</th>\n",
       "      <th>ftag</th>\n",
       "      <th>odd_h</th>\n",
       "      <th>odd_d</th>\n",
       "      <th>odd_a</th>\n",
       "    </tr>\n",
       "  </thead>\n",
       "  <tbody>\n",
       "    <tr>\n",
       "      <th>0</th>\n",
       "      <td>3</td>\n",
       "      <td>1</td>\n",
       "      <td>1.56</td>\n",
       "      <td>4.41</td>\n",
       "      <td>7.42</td>\n",
       "    </tr>\n",
       "    <tr>\n",
       "      <th>1</th>\n",
       "      <td>2</td>\n",
       "      <td>2</td>\n",
       "      <td>2.36</td>\n",
       "      <td>3.60</td>\n",
       "      <td>3.40</td>\n",
       "    </tr>\n",
       "    <tr>\n",
       "      <th>2</th>\n",
       "      <td>2</td>\n",
       "      <td>0</td>\n",
       "      <td>1.83</td>\n",
       "      <td>4.20</td>\n",
       "      <td>4.80</td>\n",
       "    </tr>\n",
       "    <tr>\n",
       "      <th>3</th>\n",
       "      <td>0</td>\n",
       "      <td>1</td>\n",
       "      <td>1.55</td>\n",
       "      <td>4.50</td>\n",
       "      <td>9.40</td>\n",
       "    </tr>\n",
       "    <tr>\n",
       "      <th>4</th>\n",
       "      <td>1</td>\n",
       "      <td>0</td>\n",
       "      <td>2.50</td>\n",
       "      <td>3.40</td>\n",
       "      <td>3.45</td>\n",
       "    </tr>\n",
       "  </tbody>\n",
       "</table>\n",
       "</div>"
      ],
      "text/plain": [
       "   fthg  ftag  odd_h  odd_d  odd_a\n",
       "0     3     1   1.56   4.41   7.42\n",
       "1     2     2   2.36   3.60   3.40\n",
       "2     2     0   1.83   4.20   4.80\n",
       "3     0     1   1.55   4.50   9.40\n",
       "4     1     0   2.50   3.40   3.45"
      ]
     },
     "execution_count": 27,
     "metadata": {},
     "output_type": "execute_result"
    }
   ],
   "source": [
    "x_variable=df2.iloc[:,9:14]\n",
    "x_variable.head()"
   ]
  },
  {
   "cell_type": "code",
   "execution_count": 30,
   "id": "249e07c1",
   "metadata": {},
   "outputs": [
    {
     "data": {
      "text/html": [
       "<div>\n",
       "<style scoped>\n",
       "    .dataframe tbody tr th:only-of-type {\n",
       "        vertical-align: middle;\n",
       "    }\n",
       "\n",
       "    .dataframe tbody tr th {\n",
       "        vertical-align: top;\n",
       "    }\n",
       "\n",
       "    .dataframe thead th {\n",
       "        text-align: right;\n",
       "    }\n",
       "</style>\n",
       "<table border=\"1\" class=\"dataframe\">\n",
       "  <thead>\n",
       "    <tr style=\"text-align: right;\">\n",
       "      <th></th>\n",
       "      <th>odd_h</th>\n",
       "      <th>odd_d</th>\n",
       "      <th>odd_a</th>\n",
       "      <th>h-d_diff</th>\n",
       "      <th>d-a_diff</th>\n",
       "      <th>h-a_diff</th>\n",
       "    </tr>\n",
       "  </thead>\n",
       "  <tbody>\n",
       "    <tr>\n",
       "      <th>0</th>\n",
       "      <td>1.56</td>\n",
       "      <td>4.41</td>\n",
       "      <td>7.42</td>\n",
       "      <td>2.85</td>\n",
       "      <td>3.01</td>\n",
       "      <td>5.86</td>\n",
       "    </tr>\n",
       "    <tr>\n",
       "      <th>1</th>\n",
       "      <td>2.36</td>\n",
       "      <td>3.60</td>\n",
       "      <td>3.40</td>\n",
       "      <td>1.24</td>\n",
       "      <td>0.20</td>\n",
       "      <td>1.04</td>\n",
       "    </tr>\n",
       "    <tr>\n",
       "      <th>2</th>\n",
       "      <td>1.83</td>\n",
       "      <td>4.20</td>\n",
       "      <td>4.80</td>\n",
       "      <td>2.37</td>\n",
       "      <td>0.60</td>\n",
       "      <td>2.97</td>\n",
       "    </tr>\n",
       "    <tr>\n",
       "      <th>3</th>\n",
       "      <td>1.55</td>\n",
       "      <td>4.50</td>\n",
       "      <td>9.40</td>\n",
       "      <td>2.95</td>\n",
       "      <td>4.90</td>\n",
       "      <td>7.85</td>\n",
       "    </tr>\n",
       "    <tr>\n",
       "      <th>4</th>\n",
       "      <td>2.50</td>\n",
       "      <td>3.40</td>\n",
       "      <td>3.45</td>\n",
       "      <td>0.90</td>\n",
       "      <td>0.05</td>\n",
       "      <td>0.95</td>\n",
       "    </tr>\n",
       "  </tbody>\n",
       "</table>\n",
       "</div>"
      ],
      "text/plain": [
       "   odd_h  odd_d  odd_a  h-d_diff  d-a_diff  h-a_diff\n",
       "0   1.56   4.41   7.42      2.85      3.01      5.86\n",
       "1   2.36   3.60   3.40      1.24      0.20      1.04\n",
       "2   1.83   4.20   4.80      2.37      0.60      2.97\n",
       "3   1.55   4.50   9.40      2.95      4.90      7.85\n",
       "4   2.50   3.40   3.45      0.90      0.05      0.95"
      ]
     },
     "execution_count": 30,
     "metadata": {},
     "output_type": "execute_result"
    }
   ],
   "source": [
    "x_variable=df2.iloc[:,9:14]\n",
    "result=[]\n",
    "for i in range(1,df2.shape[0]+1):\n",
    "    result.append(end_result_encode(df2[i-1:i][\"fthg\"].item(),df2[i-1:i][\"ftag\"].item()))\n",
    "y=pd.DataFrame(result)\n",
    "x_variable[\"h-d_diff\"]=abs(x_variable[\"odd_h\"]-x_variable[\"odd_d\"])\n",
    "x_variable[\"d-a_diff\"]=abs(x_variable[\"odd_d\"]-x_variable[\"odd_a\"])\n",
    "x_variable[\"h-a_diff\"]=abs(x_variable[\"odd_h\"]-x_variable[\"odd_a\"])\n",
    "x_variable=x_variable.drop([\"fthg\",\"ftag\"],axis=1)\n",
    "x_variable.head()"
   ]
  },
  {
   "cell_type": "markdown",
   "id": "53a29a83",
   "metadata": {},
   "source": [
    "### Spliting the data into training and test set"
   ]
  },
  {
   "cell_type": "code",
   "execution_count": 33,
   "id": "593ab93d",
   "metadata": {},
   "outputs": [],
   "source": [
    "x_train,x_test,y_train,y_test=train_test_split(x_variable,y,test_size=0.2,random_state=0)"
   ]
  },
  {
   "cell_type": "markdown",
   "id": "eed16e66",
   "metadata": {},
   "source": [
    "Applying 5-fold Cross Validation to ensure I do not overfit the model"
   ]
  },
  {
   "cell_type": "code",
   "execution_count": 34,
   "id": "8884862e",
   "metadata": {},
   "outputs": [],
   "source": [
    "k_fold = KFold(n_splits=5, shuffle=True, random_state=0)"
   ]
  },
  {
   "cell_type": "markdown",
   "id": "36218fa7",
   "metadata": {},
   "source": [
    "We create a function to access the accuracy of our models."
   ]
  },
  {
   "cell_type": "code",
   "execution_count": 35,
   "id": "aad3de9f",
   "metadata": {},
   "outputs": [],
   "source": [
    "def train_acc_score(model):\n",
    "    return round(np.mean(cross_val_score(model,x_train,y_train,cv=k_fold,scoring=\"accuracy\")),2)\n",
    "def acc_score(model):\n",
    "    return np.mean(cross_val_score(model,x_train,y_train,cv=k_fold,scoring=\"accuracy\"),2)\n",
    "def test_acc_score(model):\n",
    "    return round(accuracy_score(y_test, model.predict(x_test)),2)\n",
    "def train_prec_score(model):\n",
    "    return round(precision_score(y_train,model.predict(x_train),average='macro'),2)\n",
    "def test_prec_score(model):\n",
    "    return round(precision_score(y_test,model.predict(x_test),average='macro'),2)\n",
    "def train_f1(model):\n",
    "    return round(f1_score(y_train,model.predict(x_train),average='macro'),2)\n",
    "def test_f1(model):\n",
    "    return round(f1_score(y_test,model.predict(x_test),average='macro'),2)\n"
   ]
  },
  {
   "cell_type": "markdown",
   "id": "a5ea8c2d",
   "metadata": {},
   "source": [
    "We then create another function to print for us the summary of the predictions for each model, using **the confusion matrix**"
   ]
  },
  {
   "cell_type": "code",
   "execution_count": 36,
   "id": "69f4876e",
   "metadata": {},
   "outputs": [],
   "source": [
    "def cm_model_train(model_used):\n",
    "    cm=confusion_matrix(y_train,model_used.predict(x_train))\n",
    "    col=[\"Predicted Home Win\",\"Predicted Draw\",\"Predicted Away Win\"]\n",
    "    cm=pd.DataFrame(cm)\n",
    "    cm.columns=[\"Predicted Home Win\",\"Predicted Draw\",\"Predicted Away Win\"]\n",
    "    cm.index=[\"Actual Home Win\",\"Actual Draw\",\"Actual Away Win\"]\n",
    "    return cm.T"
   ]
  },
  {
   "cell_type": "markdown",
   "id": "17a86f93",
   "metadata": {},
   "source": [
    "Creating a function for observing the importance of the different variables"
   ]
  },
  {
   "cell_type": "code",
   "execution_count": 37,
   "id": "a5bee2c0",
   "metadata": {},
   "outputs": [],
   "source": [
    "def importance_of_var(model):\n",
    "    variable = pd.DataFrame()\n",
    "    variable['feature'] = x_train.columns\n",
    "    variable['importance'] = model.feature_importances_\n",
    "    variable.sort_values(by=['importance'], ascending=True, inplace=True)\n",
    "    variable.set_index('feature', inplace=True)\n",
    "    return variable.plot(kind='barh', figsize=(8,8))"
   ]
  },
  {
   "cell_type": "markdown",
   "id": "dce668ac",
   "metadata": {},
   "source": [
    "# 5 models to predict the score\n",
    "\n"
   ]
  },
  {
   "cell_type": "markdown",
   "id": "16e21ff1",
   "metadata": {},
   "source": [
    "Using the following methods:\n",
    "1) Logistic Regression (Lasso) </br>\n",
    "2) Support Vector Machine </br>\n",
    "3) K-Nearest Neighbours </br>\n",
    "4) Decision Tree Classifier </br>\n",
    "5) Random Forest Classifier </br>"
   ]
  },
  {
   "cell_type": "markdown",
   "id": "50093ec1",
   "metadata": {},
   "source": [
    "**1) Logistic Regression (Lasso)**"
   ]
  },
  {
   "cell_type": "code",
   "execution_count": 38,
   "id": "a5f95055",
   "metadata": {},
   "outputs": [
    {
     "name": "stdout",
     "output_type": "stream",
     "text": [
      "In-sample accuracy: 0.53\n",
      "Test accuracy: 0.55\n",
      "In-sample Precision Score: 0.35\n",
      "Test Precision Score: 0.37\n",
      "In-sample F1 Score: 0.38\n",
      "Test F1 Score: 0.4\n"
     ]
    },
    {
     "data": {
      "text/html": [
       "<div>\n",
       "<style scoped>\n",
       "    .dataframe tbody tr th:only-of-type {\n",
       "        vertical-align: middle;\n",
       "    }\n",
       "\n",
       "    .dataframe tbody tr th {\n",
       "        vertical-align: top;\n",
       "    }\n",
       "\n",
       "    .dataframe thead th {\n",
       "        text-align: right;\n",
       "    }\n",
       "</style>\n",
       "<table border=\"1\" class=\"dataframe\">\n",
       "  <thead>\n",
       "    <tr style=\"text-align: right;\">\n",
       "      <th></th>\n",
       "      <th>Actual Home Win</th>\n",
       "      <th>Actual Draw</th>\n",
       "      <th>Actual Away Win</th>\n",
       "    </tr>\n",
       "  </thead>\n",
       "  <tbody>\n",
       "    <tr>\n",
       "      <th>Predicted Home Win</th>\n",
       "      <td>3234</td>\n",
       "      <td>1544</td>\n",
       "      <td>1275</td>\n",
       "    </tr>\n",
       "    <tr>\n",
       "      <th>Predicted Draw</th>\n",
       "      <td>4</td>\n",
       "      <td>0</td>\n",
       "      <td>1</td>\n",
       "    </tr>\n",
       "    <tr>\n",
       "      <th>Predicted Away Win</th>\n",
       "      <td>486</td>\n",
       "      <td>510</td>\n",
       "      <td>1035</td>\n",
       "    </tr>\n",
       "  </tbody>\n",
       "</table>\n",
       "</div>"
      ],
      "text/plain": [
       "                    Actual Home Win  Actual Draw  Actual Away Win\n",
       "Predicted Home Win             3234         1544             1275\n",
       "Predicted Draw                    4            0                1\n",
       "Predicted Away Win              486          510             1035"
      ]
     },
     "execution_count": 38,
     "metadata": {},
     "output_type": "execute_result"
    }
   ],
   "source": [
    "param_grid = dict(C=(0.0001,0.001,0.005,0.01,0.1,0.5,1))\n",
    "lasso = GridSearchCV(LogisticRegression(penalty=\"l2\"),param_grid=param_grid,scoring=\"f1_macro\")\n",
    "lasso=LogisticRegression(penalty=\"l2\")\n",
    "lasso.fit(x_train,y_train)\n",
    "#print(log_reg1.best_params_)\n",
    "print(\"In-sample accuracy: \" + str(train_acc_score(lasso)))\n",
    "print(\"Test accuracy: \" + str(test_acc_score(lasso)))\n",
    "print (\"In-sample Precision Score: \" + str(train_prec_score(lasso)))\n",
    "print (\"Test Precision Score: \" + str(test_prec_score(lasso)))\n",
    "print (\"In-sample F1 Score: \" + str(train_f1(lasso)))\n",
    "print (\"Test F1 Score: \" + str(test_f1(lasso)))\n",
    "cm_model_train(lasso)"
   ]
  },
  {
   "cell_type": "markdown",
   "id": "f6a95b1b",
   "metadata": {},
   "source": [
    "**2) Support Vector**"
   ]
  },
  {
   "cell_type": "code",
   "execution_count": 39,
   "id": "4e5f2bc7",
   "metadata": {},
   "outputs": [
    {
     "name": "stdout",
     "output_type": "stream",
     "text": [
      "In-sample accuracy: 0.53\n",
      "Test accuracy: 0.55\n",
      "In-sample Precision Score: 0.35\n",
      "Test Precision Score: 0.38\n",
      "In-sample F1 Score: 0.37\n",
      "Test F1 Score: 0.4\n"
     ]
    },
    {
     "data": {
      "text/html": [
       "<div>\n",
       "<style scoped>\n",
       "    .dataframe tbody tr th:only-of-type {\n",
       "        vertical-align: middle;\n",
       "    }\n",
       "\n",
       "    .dataframe tbody tr th {\n",
       "        vertical-align: top;\n",
       "    }\n",
       "\n",
       "    .dataframe thead th {\n",
       "        text-align: right;\n",
       "    }\n",
       "</style>\n",
       "<table border=\"1\" class=\"dataframe\">\n",
       "  <thead>\n",
       "    <tr style=\"text-align: right;\">\n",
       "      <th></th>\n",
       "      <th>Actual Home Win</th>\n",
       "      <th>Actual Draw</th>\n",
       "      <th>Actual Away Win</th>\n",
       "    </tr>\n",
       "  </thead>\n",
       "  <tbody>\n",
       "    <tr>\n",
       "      <th>Predicted Home Win</th>\n",
       "      <td>3352</td>\n",
       "      <td>1660</td>\n",
       "      <td>1406</td>\n",
       "    </tr>\n",
       "    <tr>\n",
       "      <th>Predicted Draw</th>\n",
       "      <td>0</td>\n",
       "      <td>0</td>\n",
       "      <td>0</td>\n",
       "    </tr>\n",
       "    <tr>\n",
       "      <th>Predicted Away Win</th>\n",
       "      <td>372</td>\n",
       "      <td>394</td>\n",
       "      <td>905</td>\n",
       "    </tr>\n",
       "  </tbody>\n",
       "</table>\n",
       "</div>"
      ],
      "text/plain": [
       "                    Actual Home Win  Actual Draw  Actual Away Win\n",
       "Predicted Home Win             3352         1660             1406\n",
       "Predicted Draw                    0            0                0\n",
       "Predicted Away Win              372          394              905"
      ]
     },
     "execution_count": 39,
     "metadata": {},
     "output_type": "execute_result"
    }
   ],
   "source": [
    "svc = svm.SVC()\n",
    "svc.fit(x_train, y_train)\n",
    "print(\"In-sample accuracy: \" + str(train_acc_score(svc)))\n",
    "print(\"Test accuracy: \" + str(test_acc_score(svc)))\n",
    "print (\"In-sample Precision Score: \" + str(train_prec_score(svc)))\n",
    "print (\"Test Precision Score: \" + str(test_prec_score(svc)))\n",
    "print (\"In-sample F1 Score: \" + str(train_f1(svc)))\n",
    "print (\"Test F1 Score: \" + str(test_f1(svc)))\n",
    "cm_model_train(svc)"
   ]
  },
  {
   "cell_type": "markdown",
   "id": "49323b95",
   "metadata": {},
   "source": [
    "The predicted accuracy is pretty good, 53%, but we do see from the confusion matrix this according to this, we would never bet a draw. This also seems very to favor home wins."
   ]
  },
  {
   "cell_type": "markdown",
   "id": "8d4ea176",
   "metadata": {},
   "source": [
    "**3) K-Nearest Neighbours**"
   ]
  },
  {
   "cell_type": "code",
   "execution_count": 40,
   "id": "f57e7a06",
   "metadata": {},
   "outputs": [
    {
     "name": "stdout",
     "output_type": "stream",
     "text": [
      "In-sample accuracy: 0.5\n",
      "Test accuracy: 0.52\n",
      "In-sample Precision Score: 0.53\n",
      "Test Precision Score: 0.47\n",
      "In-sample F1 Score: 0.5\n",
      "Test F1 Score: 0.45\n"
     ]
    },
    {
     "data": {
      "text/html": [
       "<div>\n",
       "<style scoped>\n",
       "    .dataframe tbody tr th:only-of-type {\n",
       "        vertical-align: middle;\n",
       "    }\n",
       "\n",
       "    .dataframe tbody tr th {\n",
       "        vertical-align: top;\n",
       "    }\n",
       "\n",
       "    .dataframe thead th {\n",
       "        text-align: right;\n",
       "    }\n",
       "</style>\n",
       "<table border=\"1\" class=\"dataframe\">\n",
       "  <thead>\n",
       "    <tr style=\"text-align: right;\">\n",
       "      <th></th>\n",
       "      <th>Actual Home Win</th>\n",
       "      <th>Actual Draw</th>\n",
       "      <th>Actual Away Win</th>\n",
       "    </tr>\n",
       "  </thead>\n",
       "  <tbody>\n",
       "    <tr>\n",
       "      <th>Predicted Home Win</th>\n",
       "      <td>3004</td>\n",
       "      <td>1158</td>\n",
       "      <td>951</td>\n",
       "    </tr>\n",
       "    <tr>\n",
       "      <th>Predicted Draw</th>\n",
       "      <td>298</td>\n",
       "      <td>458</td>\n",
       "      <td>262</td>\n",
       "    </tr>\n",
       "    <tr>\n",
       "      <th>Predicted Away Win</th>\n",
       "      <td>422</td>\n",
       "      <td>438</td>\n",
       "      <td>1098</td>\n",
       "    </tr>\n",
       "  </tbody>\n",
       "</table>\n",
       "</div>"
      ],
      "text/plain": [
       "                    Actual Home Win  Actual Draw  Actual Away Win\n",
       "Predicted Home Win             3004         1158              951\n",
       "Predicted Draw                  298          458              262\n",
       "Predicted Away Win              422          438             1098"
      ]
     },
     "execution_count": 40,
     "metadata": {},
     "output_type": "execute_result"
    }
   ],
   "source": [
    "KNN=KNeighborsClassifier(n_neighbors=16,p=1,weights='uniform')\n",
    "KNN.fit(x_train,y_train)\n",
    "print(\"In-sample accuracy: \" + str(train_acc_score(KNN)))\n",
    "print(\"Test accuracy: \" + str(test_acc_score(KNN)))\n",
    "print (\"In-sample Precision Score: \" + str(train_prec_score(KNN)))\n",
    "print (\"Test Precision Score: \" + str(test_prec_score(KNN)))\n",
    "print (\"In-sample F1 Score: \" + str(train_f1(KNN)))\n",
    "print (\"Test F1 Score: \" + str(test_f1(KNN)))\n",
    "cm_model_train(KNN)"
   ]
  },
  {
   "cell_type": "markdown",
   "id": "7b7512a0",
   "metadata": {},
   "source": [
    "**4) Decision Tree Classifier**"
   ]
  },
  {
   "cell_type": "code",
   "execution_count": 41,
   "id": "6edd2f14",
   "metadata": {},
   "outputs": [
    {
     "name": "stdout",
     "output_type": "stream",
     "text": [
      "In-sample accuracy: 0.43\n",
      "Test accuracy: 0.44\n",
      "In-sample Precision Score: 0.98\n",
      "Test Precision Score: 0.42\n",
      "In-sample F1 Score: 0.97\n",
      "Test F1 Score: 0.42\n"
     ]
    },
    {
     "data": {
      "text/html": [
       "<div>\n",
       "<style scoped>\n",
       "    .dataframe tbody tr th:only-of-type {\n",
       "        vertical-align: middle;\n",
       "    }\n",
       "\n",
       "    .dataframe tbody tr th {\n",
       "        vertical-align: top;\n",
       "    }\n",
       "\n",
       "    .dataframe thead th {\n",
       "        text-align: right;\n",
       "    }\n",
       "</style>\n",
       "<table border=\"1\" class=\"dataframe\">\n",
       "  <thead>\n",
       "    <tr style=\"text-align: right;\">\n",
       "      <th></th>\n",
       "      <th>Actual Home Win</th>\n",
       "      <th>Actual Draw</th>\n",
       "      <th>Actual Away Win</th>\n",
       "    </tr>\n",
       "  </thead>\n",
       "  <tbody>\n",
       "    <tr>\n",
       "      <th>Predicted Home Win</th>\n",
       "      <td>3722</td>\n",
       "      <td>89</td>\n",
       "      <td>63</td>\n",
       "    </tr>\n",
       "    <tr>\n",
       "      <th>Predicted Draw</th>\n",
       "      <td>2</td>\n",
       "      <td>1965</td>\n",
       "      <td>49</td>\n",
       "    </tr>\n",
       "    <tr>\n",
       "      <th>Predicted Away Win</th>\n",
       "      <td>0</td>\n",
       "      <td>0</td>\n",
       "      <td>2199</td>\n",
       "    </tr>\n",
       "  </tbody>\n",
       "</table>\n",
       "</div>"
      ],
      "text/plain": [
       "                    Actual Home Win  Actual Draw  Actual Away Win\n",
       "Predicted Home Win             3722           89               63\n",
       "Predicted Draw                    2         1965               49\n",
       "Predicted Away Win                0            0             2199"
      ]
     },
     "execution_count": 41,
     "metadata": {},
     "output_type": "execute_result"
    }
   ],
   "source": [
    "Dec_tree=DecisionTreeClassifier()\n",
    "Dec_tree.fit(x_train,y_train)\n",
    "#print(Dec_tree.best_params_)\n",
    "print(\"In-sample accuracy: \" + str(train_acc_score(Dec_tree)))\n",
    "print(\"Test accuracy: \" + str(test_acc_score(Dec_tree)))\n",
    "print (\"In-sample Precision Score: \" + str(train_prec_score(Dec_tree)))\n",
    "print (\"Test Precision Score: \" + str(test_prec_score(Dec_tree)))\n",
    "print (\"In-sample F1 Score: \" + str(train_f1(Dec_tree)))\n",
    "print (\"Test F1 Score: \" + str(test_f1(Dec_tree)))\n",
    "cm_model_train(Dec_tree)"
   ]
  },
  {
   "cell_type": "markdown",
   "id": "d6788f11",
   "metadata": {},
   "source": [
    "Note the very high \"in sample precision score\" of **97 per cent**. However, this is not reliable, as we see that there is very low accuracy of 43 per cent. Applying cross-valdiation have here helped us. </br>\n",
    "\n",
    "We will therefore try to adjust the Tree somewhat, to make sure it does not overfit the model"
   ]
  },
  {
   "cell_type": "code",
   "execution_count": 42,
   "id": "dff504cd",
   "metadata": {},
   "outputs": [
    {
     "name": "stdout",
     "output_type": "stream",
     "text": [
      "In-sample accuracy: 0.52\n",
      "Test accuracy: 0.54\n",
      "In-sample Precision Score: 0.53\n",
      "Test Precision Score: 0.46\n",
      "In-sample F1 Score: 0.42\n",
      "Test F1 Score: 0.42\n"
     ]
    },
    {
     "data": {
      "text/html": [
       "<div>\n",
       "<style scoped>\n",
       "    .dataframe tbody tr th:only-of-type {\n",
       "        vertical-align: middle;\n",
       "    }\n",
       "\n",
       "    .dataframe tbody tr th {\n",
       "        vertical-align: top;\n",
       "    }\n",
       "\n",
       "    .dataframe thead th {\n",
       "        text-align: right;\n",
       "    }\n",
       "</style>\n",
       "<table border=\"1\" class=\"dataframe\">\n",
       "  <thead>\n",
       "    <tr style=\"text-align: right;\">\n",
       "      <th></th>\n",
       "      <th>Actual Home Win</th>\n",
       "      <th>Actual Draw</th>\n",
       "      <th>Actual Away Win</th>\n",
       "    </tr>\n",
       "  </thead>\n",
       "  <tbody>\n",
       "    <tr>\n",
       "      <th>Predicted Home Win</th>\n",
       "      <td>3082</td>\n",
       "      <td>1319</td>\n",
       "      <td>1043</td>\n",
       "    </tr>\n",
       "    <tr>\n",
       "      <th>Predicted Draw</th>\n",
       "      <td>34</td>\n",
       "      <td>87</td>\n",
       "      <td>44</td>\n",
       "    </tr>\n",
       "    <tr>\n",
       "      <th>Predicted Away Win</th>\n",
       "      <td>608</td>\n",
       "      <td>648</td>\n",
       "      <td>1224</td>\n",
       "    </tr>\n",
       "  </tbody>\n",
       "</table>\n",
       "</div>"
      ],
      "text/plain": [
       "                    Actual Home Win  Actual Draw  Actual Away Win\n",
       "Predicted Home Win             3082         1319             1043\n",
       "Predicted Draw                   34           87               44\n",
       "Predicted Away Win              608          648             1224"
      ]
     },
     "execution_count": 42,
     "metadata": {},
     "output_type": "execute_result"
    }
   ],
   "source": [
    "Dec_tree_adj=DecisionTreeClassifier(max_depth= 8, max_leaf_nodes= 40, min_samples_leaf= 1, min_samples_split= 7)\n",
    "Dec_tree_adj.fit(x_train,y_train)\n",
    "#print(Dec_tree.best_params_)\n",
    "print(\"In-sample accuracy: \" + str(train_acc_score(Dec_tree_adj)))\n",
    "print(\"Test accuracy: \" + str(test_acc_score(Dec_tree_adj)))\n",
    "print (\"In-sample Precision Score: \" + str(train_prec_score(Dec_tree_adj)))\n",
    "print (\"Test Precision Score: \" + str(test_prec_score(Dec_tree_adj)))\n",
    "print (\"In-sample F1 Score: \" + str(train_f1(Dec_tree_adj)))\n",
    "print (\"Test F1 Score: \" + str(test_f1(Dec_tree_adj)))\n",
    "cm_model_train(Dec_tree_adj)"
   ]
  },
  {
   "cell_type": "markdown",
   "id": "86905dc1",
   "metadata": {},
   "source": [
    "We see that we have improved the in sample accuracy from 43 to 52 per cent!"
   ]
  },
  {
   "cell_type": "markdown",
   "id": "3a9d0dc8",
   "metadata": {},
   "source": [
    "**5) Random Forest Classifier**"
   ]
  },
  {
   "cell_type": "code",
   "execution_count": 43,
   "id": "4fc6556f",
   "metadata": {},
   "outputs": [
    {
     "name": "stdout",
     "output_type": "stream",
     "text": [
      "In-sample accuracy: 0.46\n",
      "Test accuracy: 0.49\n",
      "In-sample Precision Score: 0.98\n",
      "Test Precision Score: 0.44\n",
      "In-sample F1 Score: 0.97\n",
      "Test F1 Score: 0.44\n"
     ]
    },
    {
     "data": {
      "text/html": [
       "<div>\n",
       "<style scoped>\n",
       "    .dataframe tbody tr th:only-of-type {\n",
       "        vertical-align: middle;\n",
       "    }\n",
       "\n",
       "    .dataframe tbody tr th {\n",
       "        vertical-align: top;\n",
       "    }\n",
       "\n",
       "    .dataframe thead th {\n",
       "        text-align: right;\n",
       "    }\n",
       "</style>\n",
       "<table border=\"1\" class=\"dataframe\">\n",
       "  <thead>\n",
       "    <tr style=\"text-align: right;\">\n",
       "      <th></th>\n",
       "      <th>Actual Home Win</th>\n",
       "      <th>Actual Draw</th>\n",
       "      <th>Actual Away Win</th>\n",
       "    </tr>\n",
       "  </thead>\n",
       "  <tbody>\n",
       "    <tr>\n",
       "      <th>Predicted Home Win</th>\n",
       "      <td>3677</td>\n",
       "      <td>63</td>\n",
       "      <td>41</td>\n",
       "    </tr>\n",
       "    <tr>\n",
       "      <th>Predicted Draw</th>\n",
       "      <td>27</td>\n",
       "      <td>1967</td>\n",
       "      <td>28</td>\n",
       "    </tr>\n",
       "    <tr>\n",
       "      <th>Predicted Away Win</th>\n",
       "      <td>20</td>\n",
       "      <td>24</td>\n",
       "      <td>2242</td>\n",
       "    </tr>\n",
       "  </tbody>\n",
       "</table>\n",
       "</div>"
      ],
      "text/plain": [
       "                    Actual Home Win  Actual Draw  Actual Away Win\n",
       "Predicted Home Win             3677           63               41\n",
       "Predicted Draw                   27         1967               28\n",
       "Predicted Away Win               20           24             2242"
      ]
     },
     "execution_count": 43,
     "metadata": {},
     "output_type": "execute_result"
    }
   ],
   "source": [
    "ranfor = RandomForestClassifier()\n",
    "ranfor.fit(x_train,y_train)\n",
    "print(\"In-sample accuracy: \" + str(train_acc_score(ranfor)))\n",
    "print(\"Test accuracy: \" + str(test_acc_score(ranfor)))\n",
    "print (\"In-sample Precision Score: \" + str(train_prec_score(ranfor)))\n",
    "print (\"Test Precision Score: \" + str(test_prec_score(ranfor)))\n",
    "print (\"In-sample F1 Score: \" + str(train_f1(ranfor)))\n",
    "print (\"Test F1 Score: \" + str(test_f1(ranfor)))\n",
    "cm_model_train(ranfor)"
   ]
  },
  {
   "cell_type": "markdown",
   "id": "62dc8541",
   "metadata": {},
   "source": [
    "**Again**, we notice the problem with an overfitting of the model. We therefore adjust the Random Forest Classifier"
   ]
  },
  {
   "cell_type": "code",
   "execution_count": 44,
   "id": "70410986",
   "metadata": {},
   "outputs": [
    {
     "name": "stdout",
     "output_type": "stream",
     "text": [
      "In-sample accuracy: 0.53\n",
      "Test accuracy: 0.55\n",
      "In-sample Precision Score: 0.54\n",
      "Test Precision Score: 0.48\n",
      "In-sample F1 Score: 0.44\n",
      "Test F1 Score: 0.43\n"
     ]
    },
    {
     "data": {
      "text/html": [
       "<div>\n",
       "<style scoped>\n",
       "    .dataframe tbody tr th:only-of-type {\n",
       "        vertical-align: middle;\n",
       "    }\n",
       "\n",
       "    .dataframe tbody tr th {\n",
       "        vertical-align: top;\n",
       "    }\n",
       "\n",
       "    .dataframe thead th {\n",
       "        text-align: right;\n",
       "    }\n",
       "</style>\n",
       "<table border=\"1\" class=\"dataframe\">\n",
       "  <thead>\n",
       "    <tr style=\"text-align: right;\">\n",
       "      <th></th>\n",
       "      <th>Actual Home Win</th>\n",
       "      <th>Actual Draw</th>\n",
       "      <th>Actual Away Win</th>\n",
       "    </tr>\n",
       "  </thead>\n",
       "  <tbody>\n",
       "    <tr>\n",
       "      <th>Predicted Home Win</th>\n",
       "      <td>3141</td>\n",
       "      <td>1361</td>\n",
       "      <td>1084</td>\n",
       "    </tr>\n",
       "    <tr>\n",
       "      <th>Predicted Draw</th>\n",
       "      <td>71</td>\n",
       "      <td>137</td>\n",
       "      <td>55</td>\n",
       "    </tr>\n",
       "    <tr>\n",
       "      <th>Predicted Away Win</th>\n",
       "      <td>512</td>\n",
       "      <td>556</td>\n",
       "      <td>1172</td>\n",
       "    </tr>\n",
       "  </tbody>\n",
       "</table>\n",
       "</div>"
      ],
      "text/plain": [
       "                    Actual Home Win  Actual Draw  Actual Away Win\n",
       "Predicted Home Win             3141         1361             1084\n",
       "Predicted Draw                   71          137               55\n",
       "Predicted Away Win              512          556             1172"
      ]
     },
     "execution_count": 44,
     "metadata": {},
     "output_type": "execute_result"
    }
   ],
   "source": [
    "ranfor_adj = RandomForestClassifier(n_estimators=50,max_depth= 7, max_leaf_nodes=50, min_samples_leaf= 7, min_samples_split= 4,random_state=0)\n",
    "ranfor_adj.fit(x_train,y_train)\n",
    "#print(ranfor.best_params_)\n",
    "print(\"In-sample accuracy: \" + str(train_acc_score(ranfor_adj)))\n",
    "print(\"Test accuracy: \" + str(test_acc_score(ranfor_adj)))\n",
    "print (\"In-sample Precision Score: \" + str(train_prec_score(ranfor_adj)))\n",
    "print (\"Test Precision Score: \" + str(test_prec_score(ranfor_adj)))\n",
    "print (\"In-sample F1 Score: \" + str(train_f1(ranfor_adj)))\n",
    "print (\"Test F1 Score: \" + str(test_f1(ranfor_adj)))\n",
    "cm_model_train(ranfor_adj)"
   ]
  },
  {
   "cell_type": "markdown",
   "id": "08efcc0e",
   "metadata": {},
   "source": [
    "We see that we have improved the in sample accuracy from 46 to 53 per cent, which is great, but we see that there are some \"false\" outcomes in the confusion matrix. "
   ]
  },
  {
   "cell_type": "markdown",
   "id": "9c9bfa27",
   "metadata": {},
   "source": [
    "# Presenting the precision of the results"
   ]
  },
  {
   "cell_type": "code",
   "execution_count": 45,
   "id": "c46d168f",
   "metadata": {},
   "outputs": [
    {
     "data": {
      "text/html": [
       "<div>\n",
       "<style scoped>\n",
       "    .dataframe tbody tr th:only-of-type {\n",
       "        vertical-align: middle;\n",
       "    }\n",
       "\n",
       "    .dataframe tbody tr th {\n",
       "        vertical-align: top;\n",
       "    }\n",
       "\n",
       "    .dataframe thead th {\n",
       "        text-align: right;\n",
       "    }\n",
       "</style>\n",
       "<table border=\"1\" class=\"dataframe\">\n",
       "  <thead>\n",
       "    <tr style=\"text-align: right;\">\n",
       "      <th></th>\n",
       "      <th>Classifier</th>\n",
       "      <th>Training Accuracy</th>\n",
       "      <th>Test Accuracy</th>\n",
       "      <th>Training Precision</th>\n",
       "      <th>Test Precision</th>\n",
       "      <th>Training F1 Score</th>\n",
       "      <th>Test F1 Score</th>\n",
       "    </tr>\n",
       "  </thead>\n",
       "  <tbody>\n",
       "    <tr>\n",
       "      <th>0</th>\n",
       "      <td>Logistic Regression (Lasso)</td>\n",
       "      <td>0.53</td>\n",
       "      <td>0.55</td>\n",
       "      <td>0.35</td>\n",
       "      <td>0.37</td>\n",
       "      <td>0.38</td>\n",
       "      <td>0.40</td>\n",
       "    </tr>\n",
       "    <tr>\n",
       "      <th>1</th>\n",
       "      <td>Support Vector Machine(Linear)</td>\n",
       "      <td>0.53</td>\n",
       "      <td>0.55</td>\n",
       "      <td>0.35</td>\n",
       "      <td>0.38</td>\n",
       "      <td>0.37</td>\n",
       "      <td>0.40</td>\n",
       "    </tr>\n",
       "    <tr>\n",
       "      <th>2</th>\n",
       "      <td>K-Nearest Neighbours</td>\n",
       "      <td>0.50</td>\n",
       "      <td>0.52</td>\n",
       "      <td>0.53</td>\n",
       "      <td>0.47</td>\n",
       "      <td>0.50</td>\n",
       "      <td>0.45</td>\n",
       "    </tr>\n",
       "    <tr>\n",
       "      <th>3</th>\n",
       "      <td>Decision Tree</td>\n",
       "      <td>0.52</td>\n",
       "      <td>0.54</td>\n",
       "      <td>0.53</td>\n",
       "      <td>0.46</td>\n",
       "      <td>0.42</td>\n",
       "      <td>0.42</td>\n",
       "    </tr>\n",
       "    <tr>\n",
       "      <th>4</th>\n",
       "      <td>Random Forest</td>\n",
       "      <td>0.53</td>\n",
       "      <td>0.55</td>\n",
       "      <td>0.54</td>\n",
       "      <td>0.48</td>\n",
       "      <td>0.44</td>\n",
       "      <td>0.43</td>\n",
       "    </tr>\n",
       "  </tbody>\n",
       "</table>\n",
       "</div>"
      ],
      "text/plain": [
       "                       Classifier  Training Accuracy  Test Accuracy  \\\n",
       "0     Logistic Regression (Lasso)               0.53           0.55   \n",
       "1  Support Vector Machine(Linear)               0.53           0.55   \n",
       "2            K-Nearest Neighbours               0.50           0.52   \n",
       "3                   Decision Tree               0.52           0.54   \n",
       "4                   Random Forest               0.53           0.55   \n",
       "\n",
       "   Training Precision  Test Precision  Training F1 Score  Test F1 Score  \n",
       "0                0.35            0.37               0.38           0.40  \n",
       "1                0.35            0.38               0.37           0.40  \n",
       "2                0.53            0.47               0.50           0.45  \n",
       "3                0.53            0.46               0.42           0.42  \n",
       "4                0.54            0.48               0.44           0.43  "
      ]
     },
     "execution_count": 45,
     "metadata": {},
     "output_type": "execute_result"
    }
   ],
   "source": [
    "Classifiers=[\"Logistic Regression (Lasso)\",\"Support Vector Machine(Linear)\",\"K-Nearest Neighbours\",\"Decision Tree\",\"Random Forest\"]\n",
    "in_sample_acc=[round(train_acc_score(x),2) for x in [lasso,svc,KNN,Dec_tree_adj,ranfor_adj]]\n",
    "test_acc=[round(test_acc_score(x),2) for x in [lasso,svc,KNN,Dec_tree_adj,ranfor_adj]]\n",
    "train_prec = [round(train_prec_score(x),2) for x in [lasso,svc,KNN,Dec_tree_adj,ranfor_adj]]\n",
    "test_prec = [round(test_prec_score(x),2) for x in [lasso,svc,KNN,Dec_tree_adj,ranfor_adj]]\n",
    "trainf1 = [train_f1(x) for x in [lasso,svc,KNN,Dec_tree_adj,ranfor_adj]]\n",
    "testf1 = [test_f1(x) for x in [lasso,svc,KNN,Dec_tree_adj,ranfor_adj]]\n",
    "cols=[\"Classifier\",\"Training Accuracy\",\"Test Accuracy\",\"Training Precision\",\"Test Precision\",\"Training F1 Score\",\"Test F1 Score\"]\n",
    "pred_results = pd.DataFrame(columns=cols)\n",
    "pred_results[\"Classifier\"]=Classifiers\n",
    "pred_results[\"Training Accuracy\"]=in_sample_acc\n",
    "pred_results[\"Test Accuracy\"]=test_acc\n",
    "pred_results[\"Training Precision\"]=train_prec\n",
    "pred_results[\"Test Precision\"]=test_prec\n",
    "pred_results[\"Training F1 Score\"]=trainf1\n",
    "pred_results[\"Test F1 Score\"]=testf1\n",
    "pred_results"
   ]
  },
  {
   "cell_type": "markdown",
   "id": "aa854c89",
   "metadata": {},
   "source": [
    "We can see that these models yield about the same (or even worse) accuracy than by just guessing based on the odds 53% accuracy. So, I would have liked to have better predictions. \n",
    "\n",
    "When we look at the factors as a whole, the **Random Forest is the winner**, as it has the highest accuracy, although the K-nearest neighbour had a higher Test set F1 score."
   ]
  },
  {
   "cell_type": "markdown",
   "id": "daf77a19",
   "metadata": {},
   "source": [
    "## Evaluation of the variables and their importance"
   ]
  },
  {
   "cell_type": "code",
   "execution_count": 46,
   "id": "3448313c",
   "metadata": {},
   "outputs": [
    {
     "data": {
      "text/plain": [
       "<AxesSubplot:ylabel='feature'>"
      ]
     },
     "execution_count": 46,
     "metadata": {},
     "output_type": "execute_result"
    },
    {
     "data": {
      "image/png": "[encoded data removed]",
      "text/plain": [
       "<Figure size 576x576 with 1 Axes>"
      ]
     },
     "metadata": {
      "needs_background": "light"
     },
     "output_type": "display_data"
    }
   ],
   "source": [
    "importance_of_var(ranfor_adj)"
   ]
  },
  {
   "cell_type": "markdown",
   "id": "ee4f3af1",
   "metadata": {},
   "source": [
    "This plot is a good summary of the analysis. The winning odds are the most important for the random forest classifier, as well as their difference.\n",
    "\n",
    "This, along with the model that have been selected, shows that in order to actually being able to beat the odds, we need even more information. However, that is outside of the scope of this paper.\n",
    "\n",
    "Further analysis should use the form of the sides, the styles of the sides, the previous results, the factors of the different leagues, etc. All of these metrix are \"baked into\" the odds, so it is hard to beat it, without being able to split it completely."
   ]
  }
 ],
 "metadata": {
  "kernelspec": {
   "display_name": "Python 3 (ipykernel)",
   "language": "python",
   "name": "python3"
  },
  "language_info": {
   "codemirror_mode": {
    "name": "ipython",
    "version": 3
   },
   "file_extension": ".py",
   "mimetype": "text/x-python",
   "name": "python",
   "nbconvert_exporter": "python",
   "pygments_lexer": "ipython3",
   "version": "3.9.7"
  }
 },
 "nbformat": 4,
 "nbformat_minor": 5
}
